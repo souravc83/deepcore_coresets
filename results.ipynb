{
 "cells": [
  {
   "cell_type": "code",
   "execution_count": 2,
   "id": "c8027137-384c-431b-b765-03eb832eb836",
   "metadata": {},
   "outputs": [],
   "source": [
    "# records all experiments and results"
   ]
  },
  {
   "cell_type": "code",
   "execution_count": 2,
   "id": "195d9e4d-b83b-43dc-b394-b04f35ba4da9",
   "metadata": {},
   "outputs": [],
   "source": [
    "from dataclasses import dataclass \n",
    "from typing import Dict, Any\n",
    "import pandas as pd\n",
    "import numpy as np "
   ]
  },
  {
   "cell_type": "code",
   "execution_count": 3,
   "id": "e7df6bd1-6bbe-464e-8bd5-1ad485ee22cb",
   "metadata": {},
   "outputs": [],
   "source": [
    "@dataclass \n",
    "class ExpResult:\n",
    "    algo: str\n",
    "    params: Dict[str, Any]\n",
    "    accuracy: float \n",
    "    time: str"
   ]
  },
  {
   "cell_type": "code",
   "execution_count": 4,
   "id": "5441a4c1-e0c0-42d9-9c33-739e7ace26b4",
   "metadata": {},
   "outputs": [],
   "source": [
    "all_results = [\n",
    "    ExpResult(\n",
    "        algo='GrandSecond',\n",
    "        params={'balanced': True, 'epochs':200, 'selection_epochs': 1, 'repeats': 2},\n",
    "        accuracy=71.96,\n",
    "        time='40 mins'\n",
    "    ),\n",
    "    ExpResult(\n",
    "        algo='EL2N-Kmeans',\n",
    "        params={'balanced': True, 'el2n_epochs': 0, 'kmeans_epochs': 20,\n",
    "                'repeats': 10,\n",
    "               'epochs': 200, 'd_intermediate': 24, 'scoring': 'max_score'},\n",
    "        accuracy=77.63,\n",
    "        time='Not known'\n",
    "    ),\n",
    "    ExpResult(\n",
    "        algo='EL2N-Kmeans',\n",
    "        params={'balanced': True, 'el2n_epochs': 0, 'kmeans_epochs': 20,\n",
    "                'repeats': 10,\n",
    "               'epochs': 200, 'd_intermediate': 24, 'scoring': 'weighted'},\n",
    "        accuracy=74.62,\n",
    "        time='Not known'\n",
    "    ),\n",
    "    ExpResult(\n",
    "        algo='EL2N',\n",
    "        params={'balanced': True, 'el2n_epochs': 2, \n",
    "                'repeats': 10,\n",
    "               'epochs': 200, 'd_intermediate': 24, 'scoring': 'max_score'},\n",
    "        accuracy=62.33,\n",
    "        time='53 mins, 1 seconds'\n",
    "    ),\n",
    "\n",
    "\n",
    "]"
   ]
  },
  {
   "cell_type": "code",
   "execution_count": 5,
   "id": "830fc8d8-b08e-4bd3-b1f4-1ab48f18d0b4",
   "metadata": {},
   "outputs": [
    {
     "data": {
      "text/html": [
       "<div>\n",
       "<style scoped>\n",
       "    .dataframe tbody tr th:only-of-type {\n",
       "        vertical-align: middle;\n",
       "    }\n",
       "\n",
       "    .dataframe tbody tr th {\n",
       "        vertical-align: top;\n",
       "    }\n",
       "\n",
       "    .dataframe thead th {\n",
       "        text-align: right;\n",
       "    }\n",
       "</style>\n",
       "<table border=\"1\" class=\"dataframe\">\n",
       "  <thead>\n",
       "    <tr style=\"text-align: right;\">\n",
       "      <th></th>\n",
       "      <th>algo</th>\n",
       "      <th>params</th>\n",
       "      <th>accuracy</th>\n",
       "      <th>time</th>\n",
       "    </tr>\n",
       "  </thead>\n",
       "  <tbody>\n",
       "    <tr>\n",
       "      <th>0</th>\n",
       "      <td>GrandSecond</td>\n",
       "      <td>{'balanced': True, 'epochs': 200, 'selection_e...</td>\n",
       "      <td>71.96</td>\n",
       "      <td>40 mins</td>\n",
       "    </tr>\n",
       "    <tr>\n",
       "      <th>1</th>\n",
       "      <td>EL2N-Kmeans</td>\n",
       "      <td>{'balanced': True, 'el2n_epochs': 0, 'kmeans_e...</td>\n",
       "      <td>77.63</td>\n",
       "      <td>Not known</td>\n",
       "    </tr>\n",
       "    <tr>\n",
       "      <th>2</th>\n",
       "      <td>EL2N-Kmeans</td>\n",
       "      <td>{'balanced': True, 'el2n_epochs': 0, 'kmeans_e...</td>\n",
       "      <td>74.62</td>\n",
       "      <td>Not known</td>\n",
       "    </tr>\n",
       "    <tr>\n",
       "      <th>3</th>\n",
       "      <td>EL2N</td>\n",
       "      <td>{'balanced': True, 'el2n_epochs': 2, 'repeats'...</td>\n",
       "      <td>62.33</td>\n",
       "      <td>53 mins, 1 seconds</td>\n",
       "    </tr>\n",
       "  </tbody>\n",
       "</table>\n",
       "</div>"
      ],
      "text/plain": [
       "          algo                                             params  accuracy  \\\n",
       "0  GrandSecond  {'balanced': True, 'epochs': 200, 'selection_e...     71.96   \n",
       "1  EL2N-Kmeans  {'balanced': True, 'el2n_epochs': 0, 'kmeans_e...     77.63   \n",
       "2  EL2N-Kmeans  {'balanced': True, 'el2n_epochs': 0, 'kmeans_e...     74.62   \n",
       "3         EL2N  {'balanced': True, 'el2n_epochs': 2, 'repeats'...     62.33   \n",
       "\n",
       "                 time  \n",
       "0             40 mins  \n",
       "1           Not known  \n",
       "2           Not known  \n",
       "3  53 mins, 1 seconds  "
      ]
     },
     "execution_count": 5,
     "metadata": {},
     "output_type": "execute_result"
    }
   ],
   "source": [
    "df = pd.DataFrame(all_results)\n",
    "df "
   ]
  },
  {
   "cell_type": "code",
   "execution_count": null,
   "id": "2741d149-28d1-4e2e-a972-20c5d67e8d34",
   "metadata": {},
   "outputs": [],
   "source": []
  },
  {
   "cell_type": "code",
   "execution_count": null,
   "id": "b9e67b7b-402e-4eb6-bd5d-cda342d18e1d",
   "metadata": {},
   "outputs": [],
   "source": []
  },
  {
   "cell_type": "code",
   "execution_count": null,
   "id": "661cfcfc-c3cd-4348-95fd-97ea060dbbe9",
   "metadata": {},
   "outputs": [],
   "source": []
  }
 ],
 "metadata": {
  "kernelspec": {
   "display_name": "default:Python",
   "language": "python",
   "name": "conda-env-default-py"
  },
  "language_info": {
   "codemirror_mode": {
    "name": "ipython",
    "version": 3
   },
   "file_extension": ".py",
   "mimetype": "text/x-python",
   "name": "python",
   "nbconvert_exporter": "python",
   "pygments_lexer": "ipython3",
   "version": "3.9.13"
  }
 },
 "nbformat": 4,
 "nbformat_minor": 5
}
